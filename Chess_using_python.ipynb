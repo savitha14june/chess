{
  "nbformat": 4,
  "nbformat_minor": 0,
  "metadata": {
    "colab": {
      "provenance": [],
      "toc_visible": true,
      "authorship_tag": "ABX9TyPTakkBYmPzn5px3Mw46PrQ",
      "include_colab_link": true
    },
    "kernelspec": {
      "name": "python3",
      "display_name": "Python 3"
    },
    "language_info": {
      "name": "python"
    }
  },
  "cells": [
    {
      "cell_type": "markdown",
      "metadata": {
        "id": "view-in-github",
        "colab_type": "text"
      },
      "source": [
        "<a href=\"https://colab.research.google.com/github/savitha14june/chess/blob/main/Chess_using_python.ipynb\" target=\"_parent\"><img src=\"https://colab.research.google.com/assets/colab-badge.svg\" alt=\"Open In Colab\"/></a>"
      ]
    },
    {
      "cell_type": "markdown",
      "source": [
        "# Chess game"
      ],
      "metadata": {
        "id": "ag6B9-Cjvwfp"
      }
    },
    {
      "cell_type": "code",
      "source": [
        "# This is a simple Chess game using basic python features\n"
      ],
      "metadata": {
        "id": "iLCmRDK4v17G"
      },
      "execution_count": 49,
      "outputs": []
    },
    {
      "cell_type": "code",
      "source": [
        "\n",
        "def create_initial_board():\n",
        "  board_setup = [['r', 'n', 'b', 'q', 'k', 'b', 'n', 'r'],\n",
        "    # Rank 8 (Blacks back row)\n",
        "    ['p', 'p', 'p', 'p', 'p', 'p', 'p', 'p'],\n",
        "    # Rank 7\n",
        "    ['o', 'o', 'o', 'o', 'o', 'o', 'o', 'o'],\n",
        "    # Rank 6\n",
        "    ['o', 'o', 'o', 'o', 'o', 'o', 'o', 'o'],\n",
        "    # Rank 5\n",
        "    ['o', 'o', 'o', 'o', 'o', 'o', 'o', 'o'],\n",
        "    # Rank 4\n",
        "    ['o', 'o', 'o', 'o', 'o', 'o', 'o', 'o'],\n",
        "    # Rank 3\n",
        "    ['P', 'P', 'P', 'P', 'P', 'P', 'P', 'P'],\n",
        "    # Rank 2\n",
        "    ['R', 'N', 'B', 'Q', 'K', 'B', 'N', 'R']]\n",
        "    # Rank 1 (White's back row)\n",
        "\n",
        "  return board_setup"
      ],
      "metadata": {
        "id": "dh-XnXDUzgFU"
      },
      "execution_count": 57,
      "outputs": []
    },
    {
      "cell_type": "code",
      "source": [
        "rules = {'r':'The rook may move as far as it wants, but only forward, backward, and to the sides.',\n",
        "         'k':'The king can only move one square in any direction - up, down, to the sides, and diagonally.',\n",
        "         'q':'The Queen can move in any one straight direction - forward, backward, sideways, or diagonally - as far as possible as long as she does not move through any of her own pieces.',\n",
        "         'b':'The bishop may move as far as it wants, but only diagonally. Each bishop starts on one color (light or dark) and must always stay on that color.',\n",
        "         'n':'Knights move in a very different way from the other pieces – going two squares in one direction, and then one more move at a 90-degree angle, just like the shape of an “L”.Knights are also the only pieces that can move over other pieces.',\n",
        "         'p':'Pawns are unusual because they move and capture in different ways: they move forward but capture diagonally. Pawns can only move forward one square at a time, except for their very first move where they can move forward two squares.Pawns can only capture one square diagonally in front of them. They can never move or capture backward. If there is another piece directly in front of a pawn he cannot move past or capture that piece.',\n",
        "         }\n"
      ],
      "metadata": {
        "id": "F3b2w1vY_0Ls"
      },
      "execution_count": 6,
      "outputs": []
    },
    {
      "cell_type": "markdown",
      "source": [
        "## Functions"
      ],
      "metadata": {
        "id": "MVz5JxPpwXk_"
      }
    },
    {
      "cell_type": "code",
      "source": [
        "def display_chessboard():\n",
        "  \"\"\"\n",
        "    Function to display the chessboard\n",
        "  \"\"\"\n",
        "  print(\" \" * 4 + \" A   B   C  D  E  F  G  H\")\n",
        "  print(\" \" * 4 + \"+-----------------------+\")\n",
        "  for i,piece in enumerate(board_setup):\n",
        "\n",
        "    print(f\"  {i+1} |\",end=\"\")\n",
        "    for p in piece:\n",
        "      print(f\" {p} |\", end=\"\")\n",
        "    print(\" \")"
      ],
      "metadata": {
        "id": "ewUc6ec7weql"
      },
      "execution_count": 59,
      "outputs": []
    },
    {
      "cell_type": "code",
      "source": [
        "display_chessboard()"
      ],
      "metadata": {
        "colab": {
          "base_uri": "https://localhost:8080/"
        },
        "id": "X4xaSTkDy8H8",
        "outputId": "7558c0c3-2c37-45b5-8fde-726c2951f867"
      },
      "execution_count": 38,
      "outputs": [
        {
          "output_type": "stream",
          "name": "stdout",
          "text": [
            "     A   B   C  D  E  F  G  H\n",
            "    +-----------------------+\n",
            "  1 | r | n | b | q | k | b | n | r | \n",
            "  2 | p | p | p | p | p | p | p | p | \n",
            "  3 | o | o | o | o | o | o | o | o | \n",
            "  4 | o | o | o | o | o | o | o | o | \n",
            "  5 | o | o | o | o | o | o | o | o | \n",
            "  6 | o | o | o | o | o | o | o | o | \n",
            "  7 | P | P | P | P | P | P | P | P | \n",
            "  8 | R | N | B | Q | K | B | N | R | \n"
          ]
        }
      ]
    },
    {
      "cell_type": "code",
      "source": [
        "def move_to_position(from_position,to_position):\n",
        "  \"\"\"\n",
        "    This function moves the selected chess piece from from_position to to_position\n",
        "    and replaces with 'o' in from_position\n",
        "  \"\"\"\n",
        "  from_column = ord(from_position[0].lower())-ord('a')\n",
        "  from_row = int(from_position[1])-1\n",
        "  # stores the selected piece in a variable\n",
        "  p = board_setup[from_row][from_column]\n",
        "\n",
        "  # replace the chess piece in to_position\n",
        "  to_column = ord(to_position[0].lower())-ord('a')\n",
        "  to_row = int(to_position[1])-1\n",
        "  board_setup[to_row][to_column] = p\n",
        "\n",
        "  # assign 'o' in from_position\n",
        "  board_setup[from_row][from_column] = 'o'\n",
        "\n"
      ],
      "metadata": {
        "id": "RNCATMSYBCy3"
      },
      "execution_count": 58,
      "outputs": []
    },
    {
      "cell_type": "code",
      "source": [
        "def get_user_choice(turn):\n",
        "  \"\"\"\n",
        "    This function is to get the next move from the user\n",
        "  \"\"\"\n",
        "  from_position = input(\"Enter the position of the piece you would like to move: \")\n",
        "  to_position =\"\"\n",
        "  if(from_position == \"end\"):\n",
        "    print(\"Thank you!!!\")\n",
        "    return True\n",
        "\n",
        "  else:\n",
        "    piece = selected_piece(from_position,turn)\n",
        "    if(piece == \"o\"):\n",
        "      print(\"There is no chess piece in\",from_position)\n",
        "    else:\n",
        "      to_position = input(\"Enter the position to where you would like to move: \")\n",
        "      print(\"move \", piece, \"to \",to_position)\n",
        "      #check_rules(from_position,to_position,piece)\n",
        "      move_to_position(from_position,to_position)\n",
        "  return False"
      ],
      "metadata": {
        "id": "0dk3wYpSWCG-"
      },
      "execution_count": 60,
      "outputs": []
    },
    {
      "cell_type": "code",
      "source": [
        "def selected_piece(position,turn):\n",
        "  \"\"\"\n",
        "  Function to check the type of chess piece is same as the player\n",
        "  \"\"\"\n",
        "  column = ord(position[0].lower())-ord('a')\n",
        "  row = int(position[1])-1\n",
        "  piece = board_setup[row][column]\n",
        "  print(\"selected piece \",piece)\n",
        "\n",
        "  return piece"
      ],
      "metadata": {
        "id": "0o7-tjrk19zW"
      },
      "execution_count": 61,
      "outputs": []
    },
    {
      "cell_type": "code",
      "source": [
        "def check_rules(from_position,to_position,piece):\n",
        "  \"\"\"\n",
        "    Function to check if the move is valid or not\n",
        "  \"\"\"\n",
        "  if(piece == 'r'):\n",
        "    print(\"Possible moves for the rook are: \")\n",
        "    print(rules['r'])\n",
        "  elif(piece == 'k'):\n",
        "    print(\"Possible moves for the king are: \")\n",
        "    print(rules['k'])\n",
        "  elif(piece == 'q'):\n",
        "    print(\"Possible moves for the queen are: \")\n",
        "    print(rules['q'])\n",
        "  elif(piece == 'n'):\n",
        "    print(\"Possible moves for the knight are: \")\n",
        "    print(rules['n'])\n",
        "  elif(piece == 'b'):\n",
        "    print(\"Possible moves for the bishop are: \")\n",
        "    print(rules['b'])\n",
        "  elif(piece == 'p'):\n",
        "    print(\"Possible moves for the pawn are: \")\n",
        "    print(rules['p'])"
      ],
      "metadata": {
        "id": "c9klShotEQ88"
      },
      "execution_count": 33,
      "outputs": []
    },
    {
      "cell_type": "code",
      "source": [
        "\"\"\"\n",
        "  The Game begins here with an intro\n",
        "\"\"\"\n",
        "message = \"\"\"Welcome to Simple Chess, a head-to-head battle of wits for two players!\n",
        "\n",
        "Game Objective\n",
        "The goal is simple: capture your opponent's king (checkmate) before they capture yours.\n",
        "\n",
        "Getting Started\n",
        "Player 1 controls the White pieces.\n",
        "Player 2 controls the Black pieces.\n",
        "\n",
        "White always moves first.\n",
        "\n",
        "How to Move\n",
        "When it's your turn, you will be prompted to enter the position of the piece you want to move. (e.g., b4).\n",
        "\n",
        "(Note: The game will then ask you for the position you want to move that piece to.)\n",
        "\n",
        "ENDING THE GAME\n",
        "To concede the game at any point (i.e., surrender), simply enter 'end' when prompted to select a piece.\n",
        "\n",
        "Good luck, and may the best strategist win!\n",
        "\n",
        "\"\"\"\n",
        "\n",
        "print(message)\n",
        "board_setup = create_initial_board()\n",
        "\n",
        "whites_turn = True\n",
        "end_game = False\n",
        "\n",
        "while not(end_game):\n",
        "  display_chessboard()\n",
        "  if(whites_turn):\n",
        "      print(\"Its White's turn\")\n",
        "      end_game = get_user_choice(\"White\")\n",
        "      whites_turn = False\n",
        "  else:\n",
        "      print(\"Its Black's turn\")\n",
        "      end_game = get_user_choice(\"Black\")\n",
        "      whites_turn = True\n"
      ],
      "metadata": {
        "colab": {
          "base_uri": "https://localhost:8080/"
        },
        "id": "vuETV1Sjtxt5",
        "outputId": "bfde5eca-6244-4a0a-98ce-1886e22cb57e"
      },
      "execution_count": 63,
      "outputs": [
        {
          "output_type": "stream",
          "name": "stdout",
          "text": [
            "Welcome to Simple Chess, a head-to-head battle of wits for two players!\n",
            "\n",
            "Game Objective\n",
            "The goal is simple: capture your opponent's king (checkmate) before they capture yours.\n",
            "\n",
            "Getting Started\n",
            "Player 1 controls the White pieces.\n",
            "Player 2 controls the Black pieces.\n",
            "\n",
            "White always moves first.\n",
            "\n",
            "How to Move\n",
            "When it's your turn, you will be prompted to enter the position of the piece you want to move. (e.g., b4).\n",
            "\n",
            "(Note: The game will then ask you for the position you want to move that piece to.)\n",
            "\n",
            "ENDING THE GAME\n",
            "To concede the game at any point (i.e., surrender), simply enter 'end' when prompted to select a piece.\n",
            "\n",
            "Good luck, and may the best strategist win!\n",
            "\n",
            "\n",
            "     A   B   C  D  E  F  G  H\n",
            "    +-----------------------+\n",
            "  1 | r | n | b | q | k | b | n | r | \n",
            "  2 | p | p | p | p | p | p | p | p | \n",
            "  3 | o | o | o | o | o | o | o | o | \n",
            "  4 | o | o | o | o | o | o | o | o | \n",
            "  5 | o | o | o | o | o | o | o | o | \n",
            "  6 | o | o | o | o | o | o | o | o | \n",
            "  7 | P | P | P | P | P | P | P | P | \n",
            "  8 | R | N | B | Q | K | B | N | R | \n",
            "Its White's turn\n",
            "Enter the position of the piece you would like to move: a1\n",
            "selected piece  r\n",
            "Enter the position to where you would like to move: a5\n",
            "move  r to  a5\n",
            "     A   B   C  D  E  F  G  H\n",
            "    +-----------------------+\n",
            "  1 | o | n | b | q | k | b | n | r | \n",
            "  2 | p | p | p | p | p | p | p | p | \n",
            "  3 | o | o | o | o | o | o | o | o | \n",
            "  4 | o | o | o | o | o | o | o | o | \n",
            "  5 | r | o | o | o | o | o | o | o | \n",
            "  6 | o | o | o | o | o | o | o | o | \n",
            "  7 | P | P | P | P | P | P | P | P | \n",
            "  8 | R | N | B | Q | K | B | N | R | \n",
            "Its Black's turn\n",
            "Enter the position of the piece you would like to move: c2\n",
            "selected piece  p\n",
            "Enter the position to where you would like to move: c6\n",
            "move  p to  c6\n",
            "     A   B   C  D  E  F  G  H\n",
            "    +-----------------------+\n",
            "  1 | o | n | b | q | k | b | n | r | \n",
            "  2 | p | p | o | p | p | p | p | p | \n",
            "  3 | o | o | o | o | o | o | o | o | \n",
            "  4 | o | o | o | o | o | o | o | o | \n",
            "  5 | r | o | o | o | o | o | o | o | \n",
            "  6 | o | o | p | o | o | o | o | o | \n",
            "  7 | P | P | P | P | P | P | P | P | \n",
            "  8 | R | N | B | Q | K | B | N | R | \n",
            "Its White's turn\n",
            "Enter the position of the piece you would like to move: h8\n",
            "selected piece  R\n",
            "Enter the position to where you would like to move: g6\n",
            "move  R to  g6\n",
            "     A   B   C  D  E  F  G  H\n",
            "    +-----------------------+\n",
            "  1 | o | n | b | q | k | b | n | r | \n",
            "  2 | p | p | o | p | p | p | p | p | \n",
            "  3 | o | o | o | o | o | o | o | o | \n",
            "  4 | o | o | o | o | o | o | o | o | \n",
            "  5 | r | o | o | o | o | o | o | o | \n",
            "  6 | o | o | p | o | o | o | R | o | \n",
            "  7 | P | P | P | P | P | P | P | P | \n",
            "  8 | R | N | B | Q | K | B | N | o | \n",
            "Its Black's turn\n",
            "Enter the position of the piece you would like to move: a7\n",
            "selected piece  P\n",
            "Enter the position to where you would like to move: a5\n",
            "move  P to  a5\n",
            "     A   B   C  D  E  F  G  H\n",
            "    +-----------------------+\n",
            "  1 | o | n | b | q | k | b | n | r | \n",
            "  2 | p | p | o | p | p | p | p | p | \n",
            "  3 | o | o | o | o | o | o | o | o | \n",
            "  4 | o | o | o | o | o | o | o | o | \n",
            "  5 | P | o | o | o | o | o | o | o | \n",
            "  6 | o | o | p | o | o | o | R | o | \n",
            "  7 | o | P | P | P | P | P | P | P | \n",
            "  8 | R | N | B | Q | K | B | N | o | \n",
            "Its White's turn\n",
            "Enter the position of the piece you would like to move: end\n",
            "Thank you!!!\n"
          ]
        }
      ]
    },
    {
      "cell_type": "code",
      "source": [],
      "metadata": {
        "id": "P3PA2Ig3vl9R"
      },
      "execution_count": null,
      "outputs": []
    }
  ]
}