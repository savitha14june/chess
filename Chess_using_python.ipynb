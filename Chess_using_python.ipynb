{
  "nbformat": 4,
  "nbformat_minor": 0,
  "metadata": {
    "colab": {
      "provenance": [],
      "toc_visible": true,
      "authorship_tag": "ABX9TyMeft5Ojh6GcTpHnDD93RFb",
      "include_colab_link": true
    },
    "kernelspec": {
      "name": "python3",
      "display_name": "Python 3"
    },
    "language_info": {
      "name": "python"
    }
  },
  "cells": [
    {
      "cell_type": "markdown",
      "metadata": {
        "id": "view-in-github",
        "colab_type": "text"
      },
      "source": [
        "<a href=\"https://colab.research.google.com/github/savitha14june/chess/blob/main/Chess_using_python.ipynb\" target=\"_parent\"><img src=\"https://colab.research.google.com/assets/colab-badge.svg\" alt=\"Open In Colab\"/></a>"
      ]
    },
    {
      "cell_type": "markdown",
      "source": [
        "# Chess game"
      ],
      "metadata": {
        "id": "ag6B9-Cjvwfp"
      }
    },
    {
      "cell_type": "code",
      "source": [
        "# This is a simple Chess game using basic python features"
      ],
      "metadata": {
        "id": "iLCmRDK4v17G"
      },
      "execution_count": null,
      "outputs": []
    },
    {
      "cell_type": "code",
      "source": [
        "# Dictionary for chess pieces\n",
        "pieces = dict()\n",
        "pieces = {['Br','Bb']}"
      ],
      "metadata": {
        "id": "dh-XnXDUzgFU"
      },
      "execution_count": null,
      "outputs": []
    },
    {
      "cell_type": "markdown",
      "source": [
        "## Functions"
      ],
      "metadata": {
        "id": "MVz5JxPpwXk_"
      }
    },
    {
      "cell_type": "code",
      "source": [
        "def display_chessboard():\n",
        "  \"\"\"\n",
        "    Function to display the chessboard\n",
        "  \"\"\"\n",
        "  for r in range(1,8):\n",
        "    print(\"+ -- + -- +\")\n",
        "    print(\"|    |\")\n"
      ],
      "metadata": {
        "id": "ewUc6ec7weql"
      },
      "execution_count": null,
      "outputs": []
    },
    {
      "cell_type": "code",
      "source": [
        "display_chessboard()"
      ],
      "metadata": {
        "colab": {
          "base_uri": "https://localhost:8080/"
        },
        "id": "X4xaSTkDy8H8",
        "outputId": "842db3e5-578e-4062-ec96-eb44c9d1072c"
      },
      "execution_count": null,
      "outputs": [
        {
          "output_type": "stream",
          "name": "stdout",
          "text": [
            "+ -- + -- +\n",
            "|    |\n",
            "+ -- + -- +\n",
            "|    |\n",
            "+ -- + -- +\n",
            "|    |\n",
            "+ -- + -- +\n",
            "|    |\n",
            "+ -- + -- +\n",
            "|    |\n",
            "+ -- + -- +\n",
            "|    |\n",
            "+ -- + -- +\n",
            "|    |\n"
          ]
        }
      ]
    },
    {
      "cell_type": "code",
      "source": [
        "def get_user_choice(turn):\n",
        "  \"\"\"\n",
        "    This function is to get the next move from the user\n",
        "  \"\"\"\n",
        "  from_position = input(\"Enter the position of the piece you would like to move: \")\n",
        "  if(from_position == \"end\"):\n",
        "    print(\"Thank you!!!\")\n",
        "    return True\n",
        "  if not(from_position[:1] == turn[:1]):\n",
        "    print(\"Its\", turn, \"'s turn. Please enter the position for a\", turn, \"piece\")\n",
        "\n",
        "  return False"
      ],
      "metadata": {
        "id": "0dk3wYpSWCG-"
      },
      "execution_count": 19,
      "outputs": []
    },
    {
      "cell_type": "code",
      "source": [
        "\"\"\"\n",
        "  The Game begins here with an intro\n",
        "\"\"\"\n",
        "message = \"\"\"Welcome to Simple Chess, a head-to-head battle of wits for two players!\n",
        "\n",
        "Game Objective\n",
        "The goal is simple: capture your opponent's king (checkmate) before they capture yours.\n",
        "\n",
        "Getting Started\n",
        "Player 1 controls the White pieces.\n",
        "Player 2 controls the Black pieces.\n",
        "\n",
        "White always moves first.\n",
        "\n",
        "How to Move\n",
        "When it's your turn, you will be prompted to enter the position of the piece you want to move.\n",
        "\n",
        "For White pieces, enter W followed by the piece's current number (e.g., W1).\n",
        "\n",
        "For Black pieces, enter B followed by the piece's current number (e.g., B4).\n",
        "\n",
        "(Note: The game will then ask you for the position you want to move that piece to.)\n",
        "\n",
        "ENDING THE GAME\n",
        "To concede the game at any point (i.e., surrender), simply enter 'end' when prompted to select a piece.\n",
        "\n",
        "Good luck, and may the best strategist win!\n",
        "\n",
        "\"\"\"\n",
        "\n",
        "print(message)\n",
        "whites_turn = True\n",
        "end_game = False\n",
        "\n",
        "while not(end_game):\n",
        "  if(whites_turn):\n",
        "      print(\"Its White's turn\")\n",
        "      end_game = get_user_choice(\"White\")\n",
        "      whites_turn = False\n",
        "  else:\n",
        "      print(\"Its Black's turn\")\n",
        "      end_game = get_user_choice(\"Black\")\n",
        "      whites_turn = True\n"
      ],
      "metadata": {
        "colab": {
          "base_uri": "https://localhost:8080/"
        },
        "id": "vuETV1Sjtxt5",
        "outputId": "6dc82f41-833b-4e5c-b28d-a63bd9f905bc"
      },
      "execution_count": 21,
      "outputs": [
        {
          "output_type": "stream",
          "name": "stdout",
          "text": [
            "Welcome to Simple Chess, a head-to-head battle of wits for two players!\n",
            "\n",
            "Game Objective\n",
            "The goal is simple: capture your opponent's king (checkmate) before they capture yours.\n",
            "\n",
            "Getting Started\n",
            "Player 1 controls the White pieces.\n",
            "Player 2 controls the Black pieces.\n",
            "\n",
            "White always moves first.\n",
            "\n",
            "How to Move\n",
            "When it's your turn, you will be prompted to enter the position of the piece you want to move.\n",
            "\n",
            "For White pieces, enter W followed by the piece's current number (e.g., W1).\n",
            "\n",
            "For Black pieces, enter B followed by the piece's current number (e.g., B4).\n",
            "\n",
            "(Note: The game will then ask you for the position you want to move that piece to.)\n",
            "\n",
            "ENDING THE GAME\n",
            "To concede the game at any point (i.e., surrender), simply enter end when prompted to select a piece.\n",
            "\n",
            "Good luck, and may the best strategist win!\n",
            "\n",
            "\n",
            "Its White's turn\n",
            "Enter the position of the piece you would like to move: b6\n",
            "Its White 's turn. Please enter the position for a White piece\n",
            "Its Black's turn\n",
            "Enter the position of the piece you would like to move: w5\n",
            "Its Black 's turn. Please enter the position for a Black piece\n",
            "Its White's turn\n",
            "Enter the position of the piece you would like to move: W3\n",
            "Its Black's turn\n",
            "Enter the position of the piece you would like to move: b8\n",
            "Its Black 's turn. Please enter the position for a Black piece\n",
            "Its White's turn\n",
            "Enter the position of the piece you would like to move: W4\n",
            "Its Black's turn\n",
            "Enter the position of the piece you would like to move: end\n",
            "Thank you!!!\n"
          ]
        }
      ]
    },
    {
      "cell_type": "code",
      "source": [],
      "metadata": {
        "id": "P3PA2Ig3vl9R"
      },
      "execution_count": null,
      "outputs": []
    }
  ]
}